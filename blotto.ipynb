{
 "cells": [
  {
   "cell_type": "markdown",
   "metadata": {},
   "source": [
    "# Blotto\n",
    "\n",
    "## Rules:\n",
    "There are 10 castles, 2 players, each with 100 soldiers.\n",
    "Simultaneously, each player allocates some number of soldiers to each castle.\n",
    "For each castle, the player who allocated more soldiers to that castle \"wins\" that castle.\n",
    "Castle `i` is worth `i` points. Ties evenly distribute points.\n",
    "The goal may be to maximize probability of winning, or maximize expected number of points won."
   ]
  },
  {
   "cell_type": "code",
   "execution_count": 1,
   "metadata": {},
   "outputs": [],
   "source": [
    "import numpy as np"
   ]
  },
  {
   "cell_type": "code",
   "execution_count": 16,
   "metadata": {},
   "outputs": [],
   "source": [
    "# in numpy batched operations, each row is a game.\n",
    "# So a shape of an array may be (num_games, 10)\n",
    "# Ideally, shape (10,) should be fine.\n",
    "castle_points = np.arange(1, 11)\n",
    "\n",
    "\n",
    "def get_points(a, b):\n",
    "    # returns player a score.\n",
    "    # Since sum of scores is 1 + ... + 10 = 55, easy to get b score\n",
    "    wins = np.where(a > b, 1, 0) + np.where(a == b, 1 / 2, 0)\n",
    "    return np.sum(wins * castle_points, axis=-1, keepdims=True)"
   ]
  },
  {
   "cell_type": "markdown",
   "metadata": {},
   "source": [
    "## Simulation ideas:\n",
    "The ultimate goal is to have the highest score or number of wins (to be determined) when matched against the pool of strategies submitted by other interns. This is not knowable. It is a good idea to brainstorm what strategies other interns may use. There may also be some database of strategies to compete against.\n",
    "\n",
    "Ultimately, any Nash equilibrium for this game must be a mixed strategy. For a quick proof, consider a pure strategy. A strategy that beats this can be created by copying this strategy, increasing the soldiers allocated to castle 10, and decreasing the soldiers allocated to some other castle. The only way this process fails is if all soldiers are allocated to castle 10, and this is easy to beat.\n",
    "\n",
    "But I/we cannot submit mixed strategies. \n",
    "\n",
    "A good question is, given a collection of pure strategies, come up with a pure strategy that maximizes the expected value of points or expected win rate against this collection. On the face, this seems hard: it appears to be a combinatorial optimization problem. Even integer programming is np hard, and our objective is nonlinear (although it is monotonic). We may be able to get somewhere by relaxing integrality and replacing the step function for the score with a sigmoid-esque function, allowing for gradient-based optimization.\n",
    "\n",
    "Let's start with a genetic algorithm. We can make each organism a pure strategy or a mixed strategy. Let's start with pure."
   ]
  },
  {
   "cell_type": "code",
   "execution_count": 146,
   "metadata": {},
   "outputs": [],
   "source": [
    "def rank_population(population):  # population shape (pop_size, 10)\n",
    "    \"\"\"Takes population, returns array of shape (pop_size, 1) whose\n",
    "    i-th entry is the index of the i-th best organism\"\"\"\n",
    "    a = np.expand_dims(population, 1)  # shape (pop_size, 1, 10)\n",
    "    b = np.expand_dims(population, 0)  # shape (1, pop_size, 10)\n",
    "    points_by_game = get_points(a, b)\n",
    "    total_points = np.sum(points_by_game, axis=1)  # shape (pop_size, 1)\n",
    "    return np.argsort(total_points, axis=0)[::-1]  # sort descending by score"
   ]
  },
  {
   "cell_type": "code",
   "execution_count": 109,
   "metadata": {},
   "outputs": [],
   "source": [
    "def mutate(population, gen, num_mutations=1):\n",
    "    num_soldiers = np.sum(population, axis=-1)\n",
    "    population = population.copy()\n",
    "    # randomly move 1 soldier\n",
    "    # choice to make: random by tower or random by soldier? I'll do by tower\n",
    "    for _ in range(num_mutations):\n",
    "        remove = gen.integers(population.shape[1], size=population.shape[0])\n",
    "        add = gen.integers(population.shape[1], size=population.shape[0])\n",
    "        idx = np.arange(population.shape[0])\n",
    "        mutate_filter = population[idx, remove] > 0 # can't remove if 0 soldiers\n",
    "        population[idx, remove] = np.where(\n",
    "            mutate_filter,\n",
    "            population[idx, remove] - 1,\n",
    "            population[idx, remove]\n",
    "        )\n",
    "        population[idx, add] = np.where(\n",
    "            mutate_filter, population[idx, add] + 1, population[idx, add]\n",
    "        )\n",
    "    assert np.all(np.sum(population, axis=-1) == num_soldiers) # assert soldiers preserved\n",
    "    return population"
   ]
  },
  {
   "cell_type": "code",
   "execution_count": 118,
   "metadata": {},
   "outputs": [],
   "source": [
    "def initialize(num_organisms, gen, num_castles=10, num_soldiers=100):\n",
    "    population = np.zeros((num_organisms, num_castles), dtype=np.int8)\n",
    "    for _ in range(num_soldiers):\n",
    "        idx = np.arange(num_organisms)\n",
    "        add = gen.integers(num_castles, size=num_organisms)\n",
    "        population[idx, add] += 1\n",
    "    return population"
   ]
  },
  {
   "cell_type": "code",
   "execution_count": 149,
   "metadata": {},
   "outputs": [],
   "source": [
    "def genetic_step(population, gen):\n",
    "    keep_ratio = 2 # keep 1/keep_ratio\n",
    "    num_organisms = population.shape[0]\n",
    "    rank = rank_population(population).reshape(-1) # shape (num_organisms)\n",
    "    top_organisms = rank[:num_organisms//keep_ratio]\n",
    "    top_organisms = population[top_organisms]\n",
    "    new_population = np.tile(top_organisms, (keep_ratio, 1))\n",
    "    return mutate(new_population, gen)"
   ]
  },
  {
   "cell_type": "code",
   "execution_count": 152,
   "metadata": {},
   "outputs": [],
   "source": [
    "gen = np.random.default_rng(seed=1)\n",
    "p = initialize(1000, gen, num_castles = 10, num_soldiers = 100)\n",
    "for _ in range(100):\n",
    "    p = genetic_step(p, gen)"
   ]
  },
  {
   "cell_type": "code",
   "execution_count": 153,
   "metadata": {},
   "outputs": [
    {
     "data": {
      "text/plain": [
       "array([[ 2,  2,  2, 10,  2, 16, 15, 13, 38,  0],\n",
       "       [ 2,  1,  3, 12,  1, 15, 15, 12, 38,  1],\n",
       "       [ 2,  1,  2, 10,  2, 17, 14, 13, 39,  0],\n",
       "       [ 3,  1,  5,  1,  4, 16, 22,  5, 37,  6],\n",
       "       [ 1,  2,  1, 11,  0, 18, 15, 12, 38,  2],\n",
       "       [ 2,  0,  6,  1,  5, 16, 22,  6, 37,  5],\n",
       "       [ 2,  2,  3, 10,  0, 16, 17, 12, 37,  1],\n",
       "       [ 1,  2,  1, 10,  1, 17, 16, 12, 38,  2],\n",
       "       [ 0,  3,  2,  8,  1, 17, 16, 12, 39,  2],\n",
       "       [ 0,  2,  2,  9,  1, 17, 16, 12, 39,  2]], dtype=int8)"
      ]
     },
     "execution_count": 153,
     "metadata": {},
     "output_type": "execute_result"
    }
   ],
   "source": [
    "p[:10, :]"
   ]
  },
  {
   "cell_type": "code",
   "execution_count": 156,
   "metadata": {},
   "outputs": [
    {
     "data": {
      "text/plain": [
       "array([[ 2,  0,  7,  9, 14,  3, 15, 17, 17, 16],\n",
       "       [ 2,  0,  8,  9, 13,  3, 15, 18, 16, 16],\n",
       "       [ 1,  0,  6, 10, 15,  1, 19, 18, 16, 14],\n",
       "       [ 2,  0,  7,  9, 14,  2, 16, 17, 17, 16],\n",
       "       [ 0,  1,  6, 10, 15,  1, 19, 18, 16, 14],\n",
       "       [ 1,  2,  6, 10, 15,  2, 20, 16, 16, 12],\n",
       "       [ 0,  0,  7, 13, 13,  2, 18, 16, 18, 13],\n",
       "       [ 1,  1,  6, 10, 14,  2, 19, 18, 15, 14],\n",
       "       [ 1,  4,  3,  4,  7, 16, 10,  2, 19, 34],\n",
       "       [ 1,  0,  6, 10, 15,  3, 18, 18, 16, 13]], dtype=int8)"
      ]
     },
     "execution_count": 156,
     "metadata": {},
     "output_type": "execute_result"
    }
   ],
   "source": [
    "gen = np.random.default_rng(seed=2)\n",
    "p = initialize(1000, gen, num_castles = 10, num_soldiers = 100)\n",
    "for _ in range(100):\n",
    "    p = genetic_step(p, gen)\n",
    "p[:10, :]"
   ]
  },
  {
   "cell_type": "code",
   "execution_count": 157,
   "metadata": {},
   "outputs": [
    {
     "data": {
      "text/plain": [
       "array([[ 1,  3,  5, 10, 11, 13, 18, 30,  1,  8],\n",
       "       [ 0,  0,  9,  2,  2, 19, 10, 19, 18, 21],\n",
       "       [ 0,  0,  9,  1,  2, 19, 12, 17, 18, 22],\n",
       "       [ 0,  0,  9,  2,  1, 19, 12, 18, 19, 20],\n",
       "       [ 0,  3,  8,  2,  1, 20,  8, 20, 17, 21],\n",
       "       [ 1,  4,  6, 14,  6,  9, 20, 29,  2,  9],\n",
       "       [ 1,  0,  8,  3,  2, 20, 12, 17, 18, 19],\n",
       "       [ 0,  1,  8,  1,  0, 17, 13, 22, 18, 20],\n",
       "       [ 0,  1,  8,  1,  2, 19, 10, 19, 18, 22],\n",
       "       [ 1,  0,  8,  1,  5, 19, 12, 17, 18, 19]], dtype=int8)"
      ]
     },
     "execution_count": 157,
     "metadata": {},
     "output_type": "execute_result"
    }
   ],
   "source": [
    "gen = np.random.default_rng(seed=3)\n",
    "p = initialize(1000, gen, num_castles = 10, num_soldiers = 100)\n",
    "for _ in range(100):\n",
    "    p = genetic_step(p, gen)\n",
    "p[:10, :]"
   ]
  },
  {
   "cell_type": "code",
   "execution_count": null,
   "metadata": {},
   "outputs": [],
   "source": []
  }
 ],
 "metadata": {
  "kernelspec": {
   "display_name": "base",
   "language": "python",
   "name": "python3"
  },
  "language_info": {
   "codemirror_mode": {
    "name": "ipython",
    "version": 3
   },
   "file_extension": ".py",
   "mimetype": "text/x-python",
   "name": "python",
   "nbconvert_exporter": "python",
   "pygments_lexer": "ipython3",
   "version": "3.12.2"
  }
 },
 "nbformat": 4,
 "nbformat_minor": 2
}
