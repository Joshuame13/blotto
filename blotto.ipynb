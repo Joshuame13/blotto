{
 "cells": [
  {
   "cell_type": "markdown",
   "metadata": {},
   "source": [
    "# Blotto\n",
    "\n",
    "## Rules:\n",
    "There are 10 castles, 2 players, each with 100 soldiers.\n",
    "Simultaneously, each player allocates some number of soldiers to each castle.\n",
    "For each castle, the player who allocated more soldiers to that castle \"wins\" that castle.\n",
    "Castle `i` is worth `i` points. Ties evenly distribute points.\n",
    "The goal may be to maximize probability of winning, or maximize expected number of points won."
   ]
  },
  {
   "cell_type": "code",
   "execution_count": 1,
   "metadata": {},
   "outputs": [],
   "source": [
    "import numpy as np"
   ]
  },
  {
   "cell_type": "code",
   "execution_count": 16,
   "metadata": {},
   "outputs": [],
   "source": [
    "# in numpy batched operations, each row is a game.\n",
    "# So a shape of an array may be (num_games, 10)\n",
    "# Ideally, shape (10,) should be fine.\n",
    "castle_points = np.arange(1, 11)\n",
    "\n",
    "\n",
    "def get_points(a, b):\n",
    "    # returns player a score.\n",
    "    # Since sum of scores is 1 + ... + 10 = 55, easy to get b score\n",
    "    wins = np.where(a > b, 1, 0) + np.where(a == b, 1 / 2, 0)\n",
    "    return np.sum(wins * castle_points, axis=-1, keepdims=True)"
   ]
  },
  {
   "cell_type": "markdown",
   "metadata": {},
   "source": [
    "## Simulation ideas:\n",
    "The ultimate goal is to have the highest score or number of wins (to be determined) when matched against the pool of strategies submitted by other interns. This is not knowable. It is a good idea to brainstorm what strategies other interns may use. There may also be some database of strategies to compete against.\n",
    "\n",
    "Ultimately, any Nash equilibrium for this game must be a mixed strategy. For a quick proof, consider a pure strategy. A strategy that beats this can be created by copying this strategy, increasing the soldiers allocated to castle 10, and decreasing the soldiers allocated to some other castle. The only way this process fails is if all soldiers are allocated to castle 10, and this is easy to beat.\n",
    "\n",
    "But I/we cannot submit mixed strategies. \n",
    "\n",
    "A good question is, given a collection of pure strategies, come up with a pure strategy that maximizes the expected value of points or expected win rate against this collection. On the face, this seems hard: it appears to be a combinatorial optimization problem. Even integer programming is np hard, and our objective is nonlinear (although it is monotonic). We may be able to get somewhere by relaxing integrality and replacing the step function for the score with a sigmoid-esque function, allowing for gradient-based optimization.\n",
    "\n",
    "Let's start with a genetic algorithm. We can make each organism a pure strategy or a mixed strategy. Let's start with pure."
   ]
  },
  {
   "cell_type": "code",
   "execution_count": 146,
   "metadata": {},
   "outputs": [],
   "source": [
    "def rank_population(population):  # population shape (pop_size, 10)\n",
    "    \"\"\"Takes population, returns array of shape (pop_size, 1) whose\n",
    "    i-th entry is the index of the i-th best organism\"\"\"\n",
    "    a = np.expand_dims(population, 1)  # shape (pop_size, 1, 10)\n",
    "    b = np.expand_dims(population, 0)  # shape (1, pop_size, 10)\n",
    "    points_by_game = get_points(a, b)\n",
    "    total_points = np.sum(points_by_game, axis=1)  # shape (pop_size, 1)\n",
    "    return np.argsort(total_points, axis=0)[::-1]  # sort descending by score"
   ]
  },
  {
   "cell_type": "code",
   "execution_count": 159,
   "metadata": {},
   "outputs": [],
   "source": [
    "def mutate(population, gen, num_mutations=1):\n",
    "    num_soldiers = np.sum(population, axis=-1)\n",
    "    population = population.copy()\n",
    "    # randomly move 1 soldier\n",
    "    # choice to make: random by tower or random by soldier? I'll do by tower\n",
    "    for _ in range(num_mutations):\n",
    "        remove = gen.integers(population.shape[1], size=population.shape[0])\n",
    "        add = gen.integers(population.shape[1], size=population.shape[0])\n",
    "        idx = np.arange(population.shape[0])\n",
    "        mutate_filter = population[idx, remove] > 0 # can't remove if 0 soldiers\n",
    "        population[idx, remove] = np.where(\n",
    "            mutate_filter,\n",
    "            population[idx, remove] - 1,\n",
    "            population[idx, remove]\n",
    "        )\n",
    "        population[idx, add] = np.where(\n",
    "            mutate_filter, population[idx, add] + 1, population[idx, add]\n",
    "        )\n",
    "    assert np.all(np.sum(population, axis=-1) == num_soldiers) # assert soldiers preserved\n",
    "    return population"
   ]
  },
  {
   "cell_type": "code",
   "execution_count": 160,
   "metadata": {},
   "outputs": [],
   "source": [
    "def initialize(num_organisms, gen, num_castles=10, num_soldiers=100):\n",
    "    population = np.zeros((num_organisms, num_castles), dtype=np.int8)\n",
    "    for _ in range(num_soldiers):\n",
    "        idx = np.arange(num_organisms)\n",
    "        add = gen.integers(num_castles, size=num_organisms)\n",
    "        population[idx, add] += 1\n",
    "    return population"
   ]
  },
  {
   "cell_type": "code",
   "execution_count": 161,
   "metadata": {},
   "outputs": [],
   "source": [
    "def genetic_step(population, gen, num_mutations=1):\n",
    "    keep_ratio = 2 # keep 1/keep_ratio\n",
    "    num_organisms = population.shape[0]\n",
    "    rank = rank_population(population).reshape(-1) # shape (num_organisms)\n",
    "    top_organisms = rank[:num_organisms//keep_ratio]\n",
    "    top_organisms = population[top_organisms]\n",
    "    new_population = np.tile(top_organisms, (keep_ratio, 1))\n",
    "    return mutate(new_population, gen, num_mutations)"
   ]
  },
  {
   "cell_type": "code",
   "execution_count": 162,
   "metadata": {},
   "outputs": [],
   "source": [
    "gen = np.random.default_rng(seed=1)\n",
    "p = initialize(1000, gen, num_castles = 10, num_soldiers = 100)\n",
    "for _ in range(100):\n",
    "    p = genetic_step(p, gen, num_mutations=10)"
   ]
  },
  {
   "cell_type": "code",
   "execution_count": 163,
   "metadata": {},
   "outputs": [
    {
     "data": {
      "text/plain": [
       "array([[ 1,  7,  2, 10,  7,  2,  8, 29,  8, 26],\n",
       "       [ 1,  5,  5, 11, 11,  0, 16,  8, 14, 29],\n",
       "       [ 1,  5,  3,  8,  7,  6,  8, 25, 11, 26],\n",
       "       [ 1,  6,  1,  9,  8,  3,  8, 28, 11, 25],\n",
       "       [ 1,  8,  6,  8,  9,  1,  6, 27,  5, 29],\n",
       "       [ 2,  0,  3,  4, 11,  6,  8, 25, 14, 27],\n",
       "       [ 1,  2,  8,  3, 12,  2, 10, 24,  8, 30],\n",
       "       [ 0,  8,  3,  6, 15,  2,  8, 24,  8, 26],\n",
       "       [ 0,  1,  7,  4,  9,  6, 11, 23, 11, 28],\n",
       "       [ 1,  1,  3,  3,  1, 21,  3, 26, 11, 30]], dtype=int8)"
      ]
     },
     "execution_count": 163,
     "metadata": {},
     "output_type": "execute_result"
    }
   ],
   "source": [
    "p[:10, :]"
   ]
  },
  {
   "cell_type": "code",
   "execution_count": 164,
   "metadata": {},
   "outputs": [
    {
     "data": {
      "text/plain": [
       "array([[ 1,  3,  5,  3,  2, 17, 16,  4, 23, 26],\n",
       "       [ 1,  5,  3,  4,  2, 11, 14,  8, 25, 27],\n",
       "       [ 0,  4,  5,  4,  4,  8, 18,  8, 24, 25],\n",
       "       [ 0,  3,  3,  5,  6,  8, 15,  9, 25, 26],\n",
       "       [ 0,  2,  7,  1,  5,  8, 15,  9, 28, 25],\n",
       "       [ 3,  0,  3,  8,  6,  1, 22, 15, 23, 19],\n",
       "       [ 1,  1,  9,  1,  5,  9, 15,  6, 26, 27],\n",
       "       [ 2,  1,  5,  4,  6,  6, 14, 10, 27, 25],\n",
       "       [ 1,  5,  6,  4,  5,  5, 17,  6, 26, 25],\n",
       "       [ 1,  5,  6,  6,  3, 12, 13,  3, 24, 27]], dtype=int8)"
      ]
     },
     "execution_count": 164,
     "metadata": {},
     "output_type": "execute_result"
    }
   ],
   "source": [
    "gen = np.random.default_rng(seed=2)\n",
    "p = initialize(1000, gen, num_castles = 10, num_soldiers = 100)\n",
    "for _ in range(200):\n",
    "    p = genetic_step(p, gen, num_mutations=5)\n",
    "p[:10, :]"
   ]
  },
  {
   "cell_type": "code",
   "execution_count": 165,
   "metadata": {},
   "outputs": [
    {
     "data": {
      "text/plain": [
       "array([[ 0,  5,  8,  1, 23,  3, 18, 10,  6, 26],\n",
       "       [ 0,  4,  8,  1, 24,  3, 18, 11,  7, 24],\n",
       "       [ 0,  1,  2, 13, 17,  4, 19,  6,  3, 35],\n",
       "       [ 1,  1,  0, 13, 18,  4, 19,  6,  3, 35],\n",
       "       [ 2,  4,  5,  2, 20,  1, 18, 10, 13, 25],\n",
       "       [ 2,  6,  5,  1, 19,  3, 18,  8, 12, 26],\n",
       "       [ 2,  4,  7,  0, 22,  3, 19,  8, 10, 25],\n",
       "       [ 1,  5,  6,  0, 23,  3, 19,  8, 10, 25],\n",
       "       [ 3,  5,  4,  1, 19,  2, 20, 10, 12, 24],\n",
       "       [ 0,  0,  0, 13, 21,  5, 18,  6,  2, 35]], dtype=int8)"
      ]
     },
     "execution_count": 165,
     "metadata": {},
     "output_type": "execute_result"
    }
   ],
   "source": [
    "gen = np.random.default_rng(seed=3)\n",
    "p = initialize(1000, gen, num_castles = 10, num_soldiers = 100)\n",
    "num_mut = 11\n",
    "for i in range(100):\n",
    "    if i % 10 == 0:\n",
    "        num_mut -= 1\n",
    "    p = genetic_step(p, gen, num_mutations=num_mut)\n",
    "p[:10, :]"
   ]
  },
  {
   "cell_type": "code",
   "execution_count": null,
   "metadata": {},
   "outputs": [],
   "source": []
  }
 ],
 "metadata": {
  "kernelspec": {
   "display_name": "base",
   "language": "python",
   "name": "python3"
  },
  "language_info": {
   "codemirror_mode": {
    "name": "ipython",
    "version": 3
   },
   "file_extension": ".py",
   "mimetype": "text/x-python",
   "name": "python",
   "nbconvert_exporter": "python",
   "pygments_lexer": "ipython3",
   "version": "3.12.2"
  }
 },
 "nbformat": 4,
 "nbformat_minor": 2
}
